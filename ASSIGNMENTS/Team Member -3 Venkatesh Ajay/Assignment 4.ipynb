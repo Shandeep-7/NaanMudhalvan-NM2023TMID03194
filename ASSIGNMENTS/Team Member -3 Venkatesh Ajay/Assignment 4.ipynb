{
  "nbformat": 4,
  "nbformat_minor": 0,
  "metadata": {
    "colab": {
      "provenance": []
    },
    "kernelspec": {
      "name": "python3",
      "display_name": "Python 3"
    },
    "language_info": {
      "name": "python"
    }
  },
  "cells": [
    {
      "cell_type": "code",
      "execution_count": 1,
      "metadata": {
        "colab": {
          "base_uri": "https://localhost:8080/"
        },
        "id": "dCt0zAukYmT3",
        "outputId": "839dc99b-4b33-4ba7-8d32-f2f2dd834824"
      },
      "outputs": [
        {
          "output_type": "stream",
          "name": "stdout",
          "text": [
            "Joined List: [1, 2, 3, 4, 5, 6]\n"
          ]
        }
      ],
      "source": [
        "# Task 1\n",
        "list1 = [1, 2, 3]\n",
        "list2 = [4, 5, 6]\n",
        "list1.extend(list2)\n",
        "print(\"Joined List:\", list1)"
      ]
    },
    {
      "cell_type": "code",
      "source": [
        "# Task 2\n",
        "numbers = [1, 2, 3, 4, 5, 6, 7, 8, 9, 10]\n",
        "even_numbers = []\n",
        "for num in numbers:\n",
        "    if num % 2 == 0:\n",
        "        even_numbers.append(num)\n",
        "print(\"Even numbers:\", even_numbers)"
      ],
      "metadata": {
        "colab": {
          "base_uri": "https://localhost:8080/"
        },
        "id": "5-edtUs5Y0Oy",
        "outputId": "628766c2-6bec-48a3-ffdf-023906dd8a08"
      },
      "execution_count": 2,
      "outputs": [
        {
          "output_type": "stream",
          "name": "stdout",
          "text": [
            "Even numbers: [2, 4, 6, 8, 10]\n"
          ]
        }
      ]
    },
    {
      "cell_type": "code",
      "source": [
        "# Task 3\n",
        "student_grades = {\n",
        "    \"Alice\": [92, 88],\n",
        "    \"Bob\": [78, 84],\n",
        "    \"Charlie\": [88, 90]\n",
        "}\n",
        "alice_grades = student_grades[\"Alice\"]\n",
        "bob_grades = student_grades[\"Bob\"]\n",
        "charlie_grades = student_grades[\"Charlie\"]\n",
        "print(\"Alice's Grades:\", alice_grades)\n",
        "print(\"Bob's Grades:\", bob_grades)\n",
        "print(\"Charlie's Grades:\", charlie_grades)"
      ],
      "metadata": {
        "colab": {
          "base_uri": "https://localhost:8080/"
        },
        "id": "e5i_ITg_Y61m",
        "outputId": "b256a619-188a-4270-82e5-28cf96aa7323"
      },
      "execution_count": 3,
      "outputs": [
        {
          "output_type": "stream",
          "name": "stdout",
          "text": [
            "Alice's Grades: [92, 88]\n",
            "Bob's Grades: [78, 84]\n",
            "Charlie's Grades: [88, 90]\n"
          ]
        }
      ]
    },
    {
      "cell_type": "code",
      "source": [
        "# Task 4\n",
        "def find_odd_numbers(numbers):\n",
        "    odd_numbers = []\n",
        "    for num in numbers:\n",
        "        if num % 2 != 0:\n",
        "            odd_numbers.append(num)\n",
        "    return odd_numbers\n",
        "numbers = [1, 2, 3, 4, 5, 6, 7, 8, 9, 10]\n",
        "odd_numbers = find_odd_numbers(numbers)\n",
        "print(\"Odd numbers:\", odd_numbers)"
      ],
      "metadata": {
        "colab": {
          "base_uri": "https://localhost:8080/"
        },
        "id": "ibDCuoOxZJil",
        "outputId": "a13357e8-e893-4ee9-bdb3-63d41fd57978"
      },
      "execution_count": 4,
      "outputs": [
        {
          "output_type": "stream",
          "name": "stdout",
          "text": [
            "Odd numbers: [1, 3, 5, 7, 9]\n"
          ]
        }
      ]
    },
    {
      "cell_type": "code",
      "source": [
        "# Task 5\n",
        "def sum_list_numbers(numbers):\n",
        "    total = 0\n",
        "    for num in numbers:\n",
        "        total += num\n",
        "    return total\n",
        "numbers = (8, 2, 3, 0, 7)\n",
        "result = sum_list_numbers(numbers)\n",
        "print(\"Sum of numbers in the list:\", result)"
      ],
      "metadata": {
        "colab": {
          "base_uri": "https://localhost:8080/"
        },
        "id": "IyFLsz3AZP2C",
        "outputId": "d2d6c8e6-209d-480f-fcbb-46c6bed1084e"
      },
      "execution_count": 5,
      "outputs": [
        {
          "output_type": "stream",
          "name": "stdout",
          "text": [
            "Sum of numbers in the list: 20\n"
          ]
        }
      ]
    }
  ]
}